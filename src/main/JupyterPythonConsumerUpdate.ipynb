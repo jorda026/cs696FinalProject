{
 "cells": [
  {
   "cell_type": "code",
   "execution_count": 30,
   "metadata": {},
   "outputs": [
    {
     "name": "stdout",
     "output_type": "stream",
     "text": [
      "Requirement already satisfied: kafka-python in /Users/ashwin/anaconda/lib/python2.7/site-packages\n",
      "Requirement already satisfied: tweepy in /Users/ashwin/anaconda/lib/python2.7/site-packages\n",
      "Requirement already satisfied: requests>=2.4.3 in /Users/ashwin/anaconda/lib/python2.7/site-packages (from tweepy)\n",
      "Requirement already satisfied: requests-oauthlib>=0.4.1 in /Users/ashwin/anaconda/lib/python2.7/site-packages (from tweepy)\n",
      "Requirement already satisfied: six>=1.7.3 in /usr/local/lib/python2.7/site-packages (from tweepy)\n",
      "Requirement already satisfied: oauthlib>=0.6.2 in /Users/ashwin/anaconda/lib/python2.7/site-packages (from requests-oauthlib>=0.4.1->tweepy)\n"
     ]
    }
   ],
   "source": [
    "!pip install kafka-python\n",
    "!pip install tweepy\n",
    "\n",
    "from kafka import KafkaConsumer\n",
    "from kafka import KafkaClient\n",
    "\n",
    "import numpy as np\n",
    "import tweepy\n",
    "import pandas as pd\n",
    "import matplotlib.pyplot as plt\n",
    "\n",
    "import json"
   ]
  },
  {
   "cell_type": "code",
   "execution_count": 31,
   "metadata": {},
   "outputs": [],
   "source": [
    "# Make the graphs prettier\n",
    "pd.set_option('display.mpl_style', 'default')"
   ]
  },
  {
   "cell_type": "code",
   "execution_count": 42,
   "metadata": {},
   "outputs": [],
   "source": [
    "def run():\n",
    "        results = []\n",
    "        consumer = KafkaConsumer(bootstrap_servers='localhost:9092',\n",
    "                                 auto_offset_reset='earliest',\n",
    "                                 consumer_timeout_ms=1000)\n",
    "        consumer.subscribe(['testtopic'])\n",
    "\n",
    "        for message in consumer:\n",
    "            if(len(message.value)>50):\n",
    "                j = json.loads(message.value)\n",
    "                results.append(j)\n",
    "        print(\"Number of tweets collected: \"+str(len(results)))\n",
    "        consumer.close()\n",
    "        return results"
   ]
  },
  {
   "cell_type": "code",
   "execution_count": 46,
   "metadata": {},
   "outputs": [
    {
     "name": "stdout",
     "output_type": "stream",
     "text": [
      "Number of tweets collected: 2271\n",
      "{u'user': {u'screen_name': u'MRfanFball', u'id': u'343417277', u'profile_image_url': u'http://pbs.twimg.com/profile_images/1463752904/Football-01-june_normal.gif', u'name': u'Fball.info'}, u'text': u\"That's What They Said: Redskins' head coach Jay Gruden, quarterback Kirk Cousins https://t.co/Mkrn34lV60 || #NFL\", u'created_at': u'Wed Dec 20 14:30:34 PST 2017', u'location': {u'lat': u'0', u'lon': u'0'}, u'id': u'943609599994843136'}\n"
     ]
    }
   ],
   "source": [
    "results = []\n",
    "results = run()\n",
    "print(results[0])"
   ]
  },
  {
   "cell_type": "code",
   "execution_count": 83,
   "metadata": {
    "collapsed": true
   },
   "outputs": [],
   "source": [
    "def extract_hash_tags(s):\n",
    "    relevantHashtags = ['#NFL', '#NHL', '#MLB', '#NBA'] \n",
    "    allHashtags = set(part[0:] for part in s.split() if part.startswith('#'))\n",
    "    ans = list(set(allHashtags) & set(relevantHashtags))\n",
    "    ans.sort()\n",
    "    return ' '.join(ans)"
   ]
  },
  {
   "cell_type": "code",
   "execution_count": 84,
   "metadata": {
    "collapsed": true
   },
   "outputs": [],
   "source": [
    "# Create a function to convert a given list of tweets into a Pandas DataFrame.\n",
    "# The DataFrame will consist of only the values, which I think might be useful for analysis...\n",
    "\n",
    "\n",
    "def toDataFrame(tweets):\n",
    "\n",
    "    DataSet = pd.DataFrame()\n",
    "\n",
    "    DataSet['tweetID'] = [tweet[\"id\"] for tweet in tweets]\n",
    "    DataSet['tweetText'] = [tweet[\"text\"] for tweet in tweets]\n",
    "    DataSet['hashtags'] = [ extract_hash_tags(tweet[\"text\"]) for tweet in tweets]\n",
    "    DataSet['tweetCreated'] = [tweet[\"created_at\"] for tweet in tweets]\n",
    "    \n",
    "    DataSet['userLocationLat'] = [tweet[\"location\"][\"lat\"] for tweet in tweets]\n",
    "    DataSet['userLocationLon'] = [tweet[\"location\"][\"lon\"] for tweet in tweets]\n",
    "    \n",
    "    DataSet['userID'] = [tweet[\"user\"][\"id\"] for tweet in tweets]\n",
    "    DataSet['userScreen'] = [tweet[\"user\"][\"screen_name\"] for tweet in tweets]\n",
    "    DataSet['userName'] = [tweet[\"user\"][\"name\"] for tweet in tweets]\n",
    "    #DataSet['userTimezone'] = [tweet[\"user\"][\"time_zone\"] for tweet in tweets]\n",
    "\n",
    "    return DataSet"
   ]
  },
  {
   "cell_type": "code",
   "execution_count": 85,
   "metadata": {},
   "outputs": [],
   "source": [
    "#Pass the tweets list to the above function to create a DataFrame\n",
    "DataSet = toDataFrame(results)"
   ]
  },
  {
   "cell_type": "code",
   "execution_count": 86,
   "metadata": {},
   "outputs": [
    {
     "data": {
      "text/html": [
       "<div>\n",
       "<style>\n",
       "    .dataframe thead tr:only-child th {\n",
       "        text-align: right;\n",
       "    }\n",
       "\n",
       "    .dataframe thead th {\n",
       "        text-align: left;\n",
       "    }\n",
       "\n",
       "    .dataframe tbody tr th {\n",
       "        vertical-align: top;\n",
       "    }\n",
       "</style>\n",
       "<table border=\"1\" class=\"dataframe\">\n",
       "  <thead>\n",
       "    <tr style=\"text-align: right;\">\n",
       "      <th></th>\n",
       "      <th>tweetID</th>\n",
       "      <th>tweetText</th>\n",
       "      <th>hashtags</th>\n",
       "      <th>tweetCreated</th>\n",
       "      <th>userLocationLat</th>\n",
       "      <th>userLocationLon</th>\n",
       "      <th>userID</th>\n",
       "      <th>userScreen</th>\n",
       "      <th>userName</th>\n",
       "    </tr>\n",
       "  </thead>\n",
       "  <tbody>\n",
       "    <tr>\n",
       "      <th>0</th>\n",
       "      <td>943609599994843136</td>\n",
       "      <td>That's What They Said: Redskins' head coach Ja...</td>\n",
       "      <td>#NFL</td>\n",
       "      <td>Wed Dec 20 14:30:34 PST 2017</td>\n",
       "      <td>0</td>\n",
       "      <td>0</td>\n",
       "      <td>343417277</td>\n",
       "      <td>MRfanFball</td>\n",
       "      <td>Fball.info</td>\n",
       "    </tr>\n",
       "    <tr>\n",
       "      <th>1</th>\n",
       "      <td>943609605908783104</td>\n",
       "      <td>#NBA Harden lleva a HoustonRockets a su triunf...</td>\n",
       "      <td>#NBA</td>\n",
       "      <td>Wed Dec 20 14:30:36 PST 2017</td>\n",
       "      <td>0</td>\n",
       "      <td>0</td>\n",
       "      <td>798682232</td>\n",
       "      <td>Kiemiguel</td>\n",
       "      <td>Kieffer Pire</td>\n",
       "    </tr>\n",
       "    <tr>\n",
       "      <th>2</th>\n",
       "      <td>943609602016468998</td>\n",
       "      <td>Up/Down: Gabriel Carlsson (D) | Cleveland Mons...</td>\n",
       "      <td>#NHL</td>\n",
       "      <td>Wed Dec 20 14:30:35 PST 2017</td>\n",
       "      <td>0</td>\n",
       "      <td>0</td>\n",
       "      <td>1456309854</td>\n",
       "      <td>ep_transfers</td>\n",
       "      <td>EP Transfers</td>\n",
       "    </tr>\n",
       "    <tr>\n",
       "      <th>3</th>\n",
       "      <td>943609608584744961</td>\n",
       "      <td>#MLB Giants announce they've interviewed ex-Pa...</td>\n",
       "      <td>#MLB</td>\n",
       "      <td>Wed Dec 20 14:30:36 PST 2017</td>\n",
       "      <td>0</td>\n",
       "      <td>0</td>\n",
       "      <td>340853126</td>\n",
       "      <td>xtnetworks</td>\n",
       "      <td>Xtreme Sports News</td>\n",
       "    </tr>\n",
       "    <tr>\n",
       "      <th>4</th>\n",
       "      <td>943609605069987840</td>\n",
       "      <td>#NBA Suns planning to keep Isaiah Canaan for y...</td>\n",
       "      <td>#NBA</td>\n",
       "      <td>Wed Dec 20 14:30:35 PST 2017</td>\n",
       "      <td>0</td>\n",
       "      <td>0</td>\n",
       "      <td>718398979982114816</td>\n",
       "      <td>Hydro_Sports</td>\n",
       "      <td>Hydro Sports</td>\n",
       "    </tr>\n",
       "    <tr>\n",
       "      <th>5</th>\n",
       "      <td>943609604017197056</td>\n",
       "      <td>#NBA spurs superó a LAClippers en el debut de ...</td>\n",
       "      <td>#NBA</td>\n",
       "      <td>Wed Dec 20 14:30:35 PST 2017</td>\n",
       "      <td>0</td>\n",
       "      <td>0</td>\n",
       "      <td>798682232</td>\n",
       "      <td>Kiemiguel</td>\n",
       "      <td>Kieffer Pire</td>\n",
       "    </tr>\n",
       "  </tbody>\n",
       "</table>\n",
       "</div>"
      ],
      "text/plain": [
       "              tweetID                                          tweetText  \\\n",
       "0  943609599994843136  That's What They Said: Redskins' head coach Ja...   \n",
       "1  943609605908783104  #NBA Harden lleva a HoustonRockets a su triunf...   \n",
       "2  943609602016468998  Up/Down: Gabriel Carlsson (D) | Cleveland Mons...   \n",
       "3  943609608584744961  #MLB Giants announce they've interviewed ex-Pa...   \n",
       "4  943609605069987840  #NBA Suns planning to keep Isaiah Canaan for y...   \n",
       "5  943609604017197056  #NBA spurs superó a LAClippers en el debut de ...   \n",
       "\n",
       "  hashtags                  tweetCreated userLocationLat userLocationLon  \\\n",
       "0     #NFL  Wed Dec 20 14:30:34 PST 2017               0               0   \n",
       "1     #NBA  Wed Dec 20 14:30:36 PST 2017               0               0   \n",
       "2     #NHL  Wed Dec 20 14:30:35 PST 2017               0               0   \n",
       "3     #MLB  Wed Dec 20 14:30:36 PST 2017               0               0   \n",
       "4     #NBA  Wed Dec 20 14:30:35 PST 2017               0               0   \n",
       "5     #NBA  Wed Dec 20 14:30:35 PST 2017               0               0   \n",
       "\n",
       "               userID    userScreen            userName  \n",
       "0           343417277    MRfanFball          Fball.info  \n",
       "1           798682232     Kiemiguel        Kieffer Pire  \n",
       "2          1456309854  ep_transfers        EP Transfers  \n",
       "3           340853126    xtnetworks  Xtreme Sports News  \n",
       "4  718398979982114816  Hydro_Sports        Hydro Sports  \n",
       "5           798682232     Kiemiguel        Kieffer Pire  "
      ]
     },
     "execution_count": 86,
     "metadata": {},
     "output_type": "execute_result"
    }
   ],
   "source": [
    "DataSet.head(6)"
   ]
  },
  {
   "cell_type": "code",
   "execution_count": 87,
   "metadata": {},
   "outputs": [
    {
     "data": {
      "text/plain": [
       "(2271, 9)"
      ]
     },
     "execution_count": 87,
     "metadata": {},
     "output_type": "execute_result"
    }
   ],
   "source": [
    "DataSet.shape"
   ]
  },
  {
   "cell_type": "code",
   "execution_count": 90,
   "metadata": {},
   "outputs": [
    {
     "data": {
      "text/plain": [
       "2271"
      ]
     },
     "execution_count": 90,
     "metadata": {},
     "output_type": "execute_result"
    }
   ],
   "source": [
    "# 'None' is treated as null here, so I'll remove all the records having 'None' in their 'hashtags' column\n",
    "DataSet = DataSet[DataSet.hashtags.notnull()]\n",
    "# Let's also check how many records are we left with now\n",
    "len(DataSet)"
   ]
  },
  {
   "cell_type": "code",
   "execution_count": 102,
   "metadata": {},
   "outputs": [
    {
     "name": "stdout",
     "output_type": "stream",
     "text": [
      "                       1004\n",
      "#NBA                    516\n",
      "#NFL                    392\n",
      "#MLB                    224\n",
      "#NHL                    100\n",
      "#MLB #NBA #NFL #NHL      15\n",
      "Name: hashtags, dtype: int64\n"
     ]
    }
   ],
   "source": [
    "hashtagCount = DataSet['hashtags'].value_counts()[:6]\n",
    "print hashtagCount"
   ]
  },
  {
   "cell_type": "code",
   "execution_count": 99,
   "metadata": {},
   "outputs": [
    {
     "data": {
      "text/plain": [
       "<matplotlib.text.Text at 0x1193e3e90>"
      ]
     },
     "execution_count": 99,
     "metadata": {},
     "output_type": "execute_result"
    },
    {
     "data": {
      "image/png": "[encoded data removed]",
      "text/plain": [
       "<matplotlib.figure.Figure at 0x11a566d90>"
      ]
     },
     "metadata": {},
     "output_type": "display_data"
    }
   ],
   "source": [
    "# Create a bar-graph figure of the specified size\n",
    "plt.rcParams['figure.figsize'] = (15, 5)\n",
    "\n",
    "# Plot the Time Zone data as a bar-graph\n",
    "hashtagCount[1:].plot(kind='bar')\n",
    "\n",
    "\n",
    "# Assign labels and title to the graph to make it more presentable\n",
    "plt.xlabel('Hashtags #')\n",
    "plt.ylabel('Tweet Count')\n",
    "plt.title('Count of tweets with the hastags specified')"
   ]
  },
  {
   "cell_type": "code",
   "execution_count": null,
   "metadata": {
    "collapsed": true
   },
   "outputs": [],
   "source": []
  }
 ],
 "metadata": {
  "kernelspec": {
   "display_name": "Python 2",
   "language": "python",
   "name": "python2"
  },
  "language_info": {
   "codemirror_mode": {
    "name": "ipython",
    "version": 2
   },
   "file_extension": ".py",
   "mimetype": "text/x-python",
   "name": "python",
   "nbconvert_exporter": "python",
   "pygments_lexer": "ipython2",
   "version": "2.7.13"
  }
 },
 "nbformat": 4,
 "nbformat_minor": 2
}
