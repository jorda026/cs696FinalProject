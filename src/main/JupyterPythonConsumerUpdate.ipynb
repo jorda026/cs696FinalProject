{
 "cells": [
  {
   "cell_type": "code",
   "execution_count": 1,
   "metadata": {},
   "outputs": [
    {
     "name": "stdout",
     "output_type": "stream",
     "text": [
      "Requirement already satisfied: kafka-python in /usr/lib/python2.7/site-packages\n",
      "Requirement already satisfied: tweepy in /usr/lib/python2.7/site-packages\n",
      "Requirement already satisfied: requests>=2.4.3 in /usr/lib/python2.7/site-packages (from tweepy)\n",
      "Requirement already satisfied: requests-oauthlib>=0.4.1 in /usr/lib/python2.7/site-packages (from tweepy)\n",
      "Requirement already satisfied: six>=1.7.3 in /usr/lib/python2.7/site-packages (from tweepy)\n",
      "Requirement already satisfied: oauthlib>=0.6.2 in /usr/lib/python2.7/site-packages (from requests-oauthlib>=0.4.1->tweepy)\n"
     ]
    }
   ],
   "source": [
    "!pip install kafka-python\n",
    "!pip install tweepy\n",
    "\n",
    "from kafka import KafkaConsumer\n",
    "from kafka import KafkaClient\n",
    "\n",
    "import numpy as np\n",
    "import tweepy\n",
    "import pandas as pd\n",
    "import matplotlib.pyplot as plt\n",
    "\n",
    "import json"
   ]
  },
  {
   "cell_type": "code",
   "execution_count": 2,
   "metadata": {},
   "outputs": [
    {
     "name": "stderr",
     "output_type": "stream",
     "text": [
      "/usr/lib/python2.7/site-packages/IPython/core/interactiveshell.py:2882: FutureWarning: \n",
      "mpl_style had been deprecated and will be removed in a future version.\n",
      "Use `matplotlib.pyplot.style.use` instead.\n",
      "\n",
      "  exec(code_obj, self.user_global_ns, self.user_ns)\n"
     ]
    }
   ],
   "source": [
    "# Make the graphs prettier\n",
    "pd.set_option('display.mpl_style', 'default')"
   ]
  },
  {
   "cell_type": "code",
   "execution_count": 3,
   "metadata": {},
   "outputs": [],
   "source": [
    "def run():\n",
    "        results = []\n",
    "        consumer = KafkaConsumer(bootstrap_servers='localhost:9092',\n",
    "                                 auto_offset_reset='earliest',\n",
    "                                 consumer_timeout_ms=1000)\n",
    "        consumer.subscribe(['Twitter'])\n",
    "\n",
    "        for message in consumer:\n",
    "            if(len(message.value)>50):\n",
    "                j = json.loads(message.value)\n",
    "                results.append(j)\n",
    "        print(\"Number of tweets collected: \"+str(len(results)))\n",
    "        consumer.close()\n",
    "        return results"
   ]
  },
  {
   "cell_type": "code",
   "execution_count": 29,
   "metadata": {},
   "outputs": [
    {
     "name": "stdout",
     "output_type": "stream",
     "text": [
      "Number of tweets collected: 260\n",
      "{u'user': {u'screen_name': u'Kdthepuppy', u'id': u'911433459876298752', u'profile_image_url': u'http://pbs.twimg.com/profile_images/917301321035800577/8sivEMI2_normal.jpg', u'name': u'Kd'}, u'text': u'Check out this video of the warriors shaving points from tonight\\u2019s game and see how they get away with it\\u2026 https://t.co/CBKAyyUbOf', u'created_at': u'Wed Dec 20 21:05:46 PST 2017', u'location': {u'lat': u'0', u'lon': u'0'}, u'id': u'943709054781702144'}\n"
     ]
    }
   ],
   "source": [
    "results = []\n",
    "results = run()\n",
    "print(results[0])"
   ]
  },
  {
   "cell_type": "code",
   "execution_count": 30,
   "metadata": {},
   "outputs": [],
   "source": [
    "def extract_hash_tags(s):\n",
    "    relevantHashtags = ['#NFL', '#NHL', '#MLB', '#NBA'] \n",
    "    allHashtags = set(part[0:] for part in s.split() if part.startswith('#'))\n",
    "    ans = list(set(allHashtags) & set(relevantHashtags))\n",
    "    ans.sort()\n",
    "    return ' '.join(ans)"
   ]
  },
  {
   "cell_type": "code",
   "execution_count": 31,
   "metadata": {},
   "outputs": [],
   "source": [
    "# Create a function to convert a given list of tweets into a Pandas DataFrame.\n",
    "# The DataFrame will consist of only the values, which I think might be useful for analysis...\n",
    "\n",
    "\n",
    "def toDataFrame(tweets):\n",
    "\n",
    "    DataSet = pd.DataFrame()\n",
    "\n",
    "    DataSet['tweetID'] = [tweet[\"id\"] for tweet in tweets]\n",
    "    DataSet['tweetText'] = [tweet[\"text\"] for tweet in tweets]\n",
    "    DataSet['hashtags'] = [ extract_hash_tags(tweet[\"text\"]) for tweet in tweets]\n",
    "    DataSet['tweetCreated'] = [tweet[\"created_at\"] for tweet in tweets]\n",
    "    \n",
    "    DataSet['userLocationLat'] = [tweet[\"location\"][\"lat\"] for tweet in tweets]\n",
    "    DataSet['userLocationLon'] = [tweet[\"location\"][\"lon\"] for tweet in tweets]\n",
    "    \n",
    "    DataSet['userID'] = [tweet[\"user\"][\"id\"] for tweet in tweets]\n",
    "    DataSet['userScreen'] = [tweet[\"user\"][\"screen_name\"] for tweet in tweets]\n",
    "    DataSet['userName'] = [tweet[\"user\"][\"name\"] for tweet in tweets]\n",
    "    #DataSet['userTimezone'] = [tweet[\"user\"][\"time_zone\"] for tweet in tweets]\n",
    "\n",
    "    return DataSet"
   ]
  },
  {
   "cell_type": "code",
   "execution_count": 32,
   "metadata": {},
   "outputs": [],
   "source": [
    "#Pass the tweets list to the above function to create a DataFrame\n",
    "DataSet = toDataFrame(results)"
   ]
  },
  {
   "cell_type": "code",
   "execution_count": 33,
   "metadata": {},
   "outputs": [
    {
     "data": {
      "text/html": [
       "<div>\n",
       "<table border=\"1\" class=\"dataframe\">\n",
       "  <thead>\n",
       "    <tr style=\"text-align: right;\">\n",
       "      <th></th>\n",
       "      <th>tweetID</th>\n",
       "      <th>tweetText</th>\n",
       "      <th>hashtags</th>\n",
       "      <th>tweetCreated</th>\n",
       "      <th>userLocationLat</th>\n",
       "      <th>userLocationLon</th>\n",
       "      <th>userID</th>\n",
       "      <th>userScreen</th>\n",
       "      <th>userName</th>\n",
       "    </tr>\n",
       "  </thead>\n",
       "  <tbody>\n",
       "    <tr>\n",
       "      <th>0</th>\n",
       "      <td>943709054781702144</td>\n",
       "      <td>Check out this video of the warriors shaving p...</td>\n",
       "      <td></td>\n",
       "      <td>Wed Dec 20 21:05:46 PST 2017</td>\n",
       "      <td>0</td>\n",
       "      <td>0</td>\n",
       "      <td>911433459876298752</td>\n",
       "      <td>Kdthepuppy</td>\n",
       "      <td>Kd</td>\n",
       "    </tr>\n",
       "    <tr>\n",
       "      <th>1</th>\n",
       "      <td>943709121253183488</td>\n",
       "      <td>#NFL Check out Zippo Lighter - NFL Throwback C...</td>\n",
       "      <td>#NFL</td>\n",
       "      <td>Wed Dec 20 21:06:02 PST 2017</td>\n",
       "      <td>0</td>\n",
       "      <td>0</td>\n",
       "      <td>855206706296627201</td>\n",
       "      <td>TrendWerks</td>\n",
       "      <td>TrendWerks</td>\n",
       "    </tr>\n",
       "    <tr>\n",
       "      <th>2</th>\n",
       "      <td>943709122582675456</td>\n",
       "      <td>#NFL Check out Zippo Lighter - NFL Throwback C...</td>\n",
       "      <td>#NFL</td>\n",
       "      <td>Wed Dec 20 21:06:02 PST 2017</td>\n",
       "      <td>0</td>\n",
       "      <td>0</td>\n",
       "      <td>87231951</td>\n",
       "      <td>Millsports</td>\n",
       "      <td>TRENDJUNKIE</td>\n",
       "    </tr>\n",
       "    <tr>\n",
       "      <th>3</th>\n",
       "      <td>943709111383941120</td>\n",
       "      <td>RT @ProCityHoops: Murder reported in Oklahoma ...</td>\n",
       "      <td>#NBA</td>\n",
       "      <td>Wed Dec 20 21:06:00 PST 2017</td>\n",
       "      <td>0</td>\n",
       "      <td>0</td>\n",
       "      <td>134385491</td>\n",
       "      <td>UoenoJACK</td>\n",
       "      <td>J.Jackson</td>\n",
       "    </tr>\n",
       "    <tr>\n",
       "      <th>4</th>\n",
       "      <td>943709129939542016</td>\n",
       "      <td>RT @TamaraJolee: Dirk brings kids to tears, J....</td>\n",
       "      <td></td>\n",
       "      <td>Wed Dec 20 21:06:04 PST 2017</td>\n",
       "      <td>0</td>\n",
       "      <td>0</td>\n",
       "      <td>97054286</td>\n",
       "      <td>AudraOlsen</td>\n",
       "      <td>Audra Olsen</td>\n",
       "    </tr>\n",
       "    <tr>\n",
       "      <th>5</th>\n",
       "      <td>943709137124204544</td>\n",
       "      <td>RT @kishownstarmaps: 濃い上に酔っぱらいだからとっ散らかっちゃって… h...</td>\n",
       "      <td></td>\n",
       "      <td>Wed Dec 20 21:06:06 PST 2017</td>\n",
       "      <td>0</td>\n",
       "      <td>0</td>\n",
       "      <td>3142999214</td>\n",
       "      <td>38726936e1264db</td>\n",
       "      <td>ゆうり@文ストは神d('∀'*)</td>\n",
       "    </tr>\n",
       "  </tbody>\n",
       "</table>\n",
       "</div>"
      ],
      "text/plain": [
       "              tweetID                                          tweetText  \\\n",
       "0  943709054781702144  Check out this video of the warriors shaving p...   \n",
       "1  943709121253183488  #NFL Check out Zippo Lighter - NFL Throwback C...   \n",
       "2  943709122582675456  #NFL Check out Zippo Lighter - NFL Throwback C...   \n",
       "3  943709111383941120  RT @ProCityHoops: Murder reported in Oklahoma ...   \n",
       "4  943709129939542016  RT @TamaraJolee: Dirk brings kids to tears, J....   \n",
       "5  943709137124204544  RT @kishownstarmaps: 濃い上に酔っぱらいだからとっ散らかっちゃって… h...   \n",
       "\n",
       "  hashtags                  tweetCreated userLocationLat userLocationLon  \\\n",
       "0           Wed Dec 20 21:05:46 PST 2017               0               0   \n",
       "1     #NFL  Wed Dec 20 21:06:02 PST 2017               0               0   \n",
       "2     #NFL  Wed Dec 20 21:06:02 PST 2017               0               0   \n",
       "3     #NBA  Wed Dec 20 21:06:00 PST 2017               0               0   \n",
       "4           Wed Dec 20 21:06:04 PST 2017               0               0   \n",
       "5           Wed Dec 20 21:06:06 PST 2017               0               0   \n",
       "\n",
       "               userID       userScreen          userName  \n",
       "0  911433459876298752       Kdthepuppy                Kd  \n",
       "1  855206706296627201       TrendWerks        TrendWerks  \n",
       "2            87231951       Millsports       TRENDJUNKIE  \n",
       "3           134385491        UoenoJACK         J.Jackson  \n",
       "4            97054286       AudraOlsen       Audra Olsen  \n",
       "5          3142999214  38726936e1264db  ゆうり@文ストは神d('∀'*)  "
      ]
     },
     "execution_count": 33,
     "metadata": {},
     "output_type": "execute_result"
    }
   ],
   "source": [
    "DataSet.head(6)"
   ]
  },
  {
   "cell_type": "code",
   "execution_count": 34,
   "metadata": {},
   "outputs": [
    {
     "data": {
      "text/plain": [
       "(260, 9)"
      ]
     },
     "execution_count": 34,
     "metadata": {},
     "output_type": "execute_result"
    }
   ],
   "source": [
    "DataSet.shape"
   ]
  },
  {
   "cell_type": "code",
   "execution_count": 35,
   "metadata": {},
   "outputs": [
    {
     "data": {
      "text/plain": [
       "260"
      ]
     },
     "execution_count": 35,
     "metadata": {},
     "output_type": "execute_result"
    }
   ],
   "source": [
    "# 'None' is treated as null here, so I'll remove all the records having 'None' in their 'hashtags' column\n",
    "DataSet = DataSet[DataSet.hashtags.notnull()]\n",
    "# Let's also check how many records are we left with now\n",
    "len(DataSet)"
   ]
  },
  {
   "cell_type": "code",
   "execution_count": 36,
   "metadata": {},
   "outputs": [
    {
     "name": "stdout",
     "output_type": "stream",
     "text": [
      "        112\n",
      "#NBA     64\n",
      "#NFL     45\n",
      "#MLB     34\n",
      "#NHL      5\n",
      "Name: hashtags, dtype: int64\n"
     ]
    }
   ],
   "source": [
    "hashtagCount = DataSet['hashtags'].value_counts()[:6]\n",
    "print hashtagCount"
   ]
  },
  {
   "cell_type": "code",
   "execution_count": 37,
   "metadata": {},
   "outputs": [],
   "source": [
    "# Create a bar-graph figure of the specified size\n",
    "plt.rcParams['figure.figsize'] = (15, 5)\n",
    "\n",
    "# Plot the Time Zone data as a bar-graph\n",
    "hashtagCount[1:].plot(kind='bar')\n",
    "\n",
    "\n",
    "# Assign labels and title to the graph to make it more presentable\n",
    "plt.xlabel('Hashtags #')\n",
    "plt.ylabel('Tweet Count')\n",
    "plt.title('Count of tweets with the hastags specified')\n",
    "plt.savefig('TweetsVsCounts.png')"
   ]
  },
  {
   "cell_type": "code",
   "execution_count": null,
   "metadata": {},
   "outputs": [],
   "source": []
  }
 ],
 "metadata": {
  "kernelspec": {
   "display_name": "Python 2",
   "language": "python",
   "name": "python2"
  },
  "language_info": {
   "codemirror_mode": {
    "name": "ipython",
    "version": 2
   },
   "file_extension": ".py",
   "mimetype": "text/x-python",
   "name": "python",
   "nbconvert_exporter": "python",
   "pygments_lexer": "ipython2",
   "version": "2.7.5"
  }
 },
 "nbformat": 4,
 "nbformat_minor": 2
}
